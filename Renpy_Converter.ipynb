{
  "nbformat": 4,
  "nbformat_minor": 0,
  "metadata": {
    "colab": {
      "provenance": [],
      "collapsed_sections": [
        "oV14KP-WDD3J"
      ]
    },
    "kernelspec": {
      "name": "python3",
      "display_name": "Python 3"
    },
    "language_info": {
      "name": "python"
    }
  },
  "cells": [
    {
      "cell_type": "code",
      "execution_count": 477,
      "metadata": {
        "id": "bY5K2TlEm8KC"
      },
      "outputs": [],
      "source": [
        "## give google sheet access to google colab\n",
        "from google.colab import auth\n",
        "import gspread\n",
        "from google.auth import default\n",
        "#autenticating to google\n",
        "auth.authenticate_user()\n",
        "creds, _ = default()\n",
        "gc = gspread.authorize(creds)"
      ]
    },
    {
      "cell_type": "code",
      "source": [
        "# read sheet\n",
        "\n",
        "import pandas as pd\n",
        "#defining my worksheet\n",
        "worksheet = gc.open('Retro-TestGSheetToCode').sheet1\n",
        "#get_all_values gives a list of rows\n",
        "rows = worksheet.get_all_values()\n",
        "#Convert to a DataFrame \n",
        "df = pd.DataFrame(rows)"
      ],
      "metadata": {
        "id": "mQR-NTzUTi9B"
      },
      "execution_count": 478,
      "outputs": []
    },
    {
      "cell_type": "code",
      "source": [
        "#creating columns name\n",
        "df.columns = df.iloc[6]\n",
        "df = df.iloc[7:]\n",
        "\n",
        "df.head(5)\n",
        "\n",
        "script = df"
      ],
      "metadata": {
        "id": "bF62310HUUfz"
      },
      "execution_count": 479,
      "outputs": []
    },
    {
      "cell_type": "markdown",
      "source": [
        "## 场景def"
      ],
      "metadata": {
        "id": "oV14KP-WDD3J"
      }
    },
    {
      "cell_type": "code",
      "source": [
        "\n",
        "def scene_settings(scene_name): #背景图片\n",
        "  if scene_name != '':\n",
        "    cmd_lst = []\n",
        "    scene_cmd = scene_name.split(',') # got initial showing scene not transition\n",
        "    if len(scene_cmd) == 1: # transition scene, need to also make character disappear\n",
        "      set_scene_name = '$s_current = ' + \"'\" + scene_name + \"'\"\n",
        "      call_func = 'call trans_scene_1'\n",
        "      cmd_lst.append(set_scene_name)\n",
        "      cmd_lst.append(call_func)\n",
        "    else: #initial showing\n",
        "      set_scene_name = '$scene_name = ' + \"'\" + scene_cmd[0] + \"'\"\n",
        "      call_func = 'call show_scene_1'\n",
        "      cmd_lst.append(set_scene_name)\n",
        "      cmd_lst.append(call_func)\n",
        "    # cmd_lst.append(\"\\n\")\n",
        "    return cmd_lst\n",
        "  else:\n",
        "    return []\n",
        "\n",
        "\n",
        "def CG_settings(CG_name): # CG\n",
        "  if CG_name != '':\n",
        "    cg_cmd = CG_name.split(\" \")\n",
        "    act = cg_cmd[0]\n",
        "    name = cg_cmd[1]\n",
        "    if act == 'show':\n",
        "      a1 = '$ cg_name = \"' + name + '\"'\n",
        "      a2 = 'call show_CG'\n",
        "      return [a1, a2]\n",
        "    else:\n",
        "      a2 = 'call hide_CG'\n",
        "      a3 = 'call show_scene_1'\n",
        "      return [a2, a3]\n",
        "  else:\n",
        "    return []\n",
        "\n"
      ],
      "metadata": {
        "id": "IWLUgedRXiVP"
      },
      "execution_count": 480,
      "outputs": []
    },
    {
      "cell_type": "markdown",
      "source": [
        "##人物def"
      ],
      "metadata": {
        "id": "h1j2e9fxC9jc"
      }
    },
    {
      "cell_type": "code",
      "source": [
        "\n",
        "def sprite_position(sprites): #人物位置\n",
        "  if sprites != '':\n",
        "    stand_cmd = []\n",
        "    sprite_lst = sprites.split(\", \")\n",
        "    for s in sprite_lst:\n",
        "      s_detail = s.split(\" \")\n",
        "      act = s_detail[0]\n",
        "      name = s_detail[1]\n",
        "      pos = s_detail[2]\n",
        "      cmd = act + ' ' + name + ' onlayer inyourface at ' + pos\n",
        "      stand_cmd.append(cmd)\n",
        "    # stand_cmd.append(\"\\n\")\n",
        "    return stand_cmd\n",
        "  else:\n",
        "    return []\n",
        "    \n",
        "\n",
        "def expression_set(exp_name): # 表情设置\n",
        "  if exp_name != '':\n",
        "    character_lst = exp_name.split(\", \")\n",
        "    exp_lst = []\n",
        "    for i in character_lst:\n",
        "      a = i.split(' ')\n",
        "      name = a[0]\n",
        "      exp = a[1]\n",
        "      ans = '$ ' + name + '_expressions = \"' + exp + '\"'\n",
        "      exp_lst.append(ans)\n",
        "    return exp_lst\n",
        "  else:\n",
        "    return []\n",
        "    \n",
        "\n",
        "def sprite_face(face_element):\n",
        "  if face_element != '':\n",
        "    s_lst = []\n",
        "    s = face_element.split(\",\")\n",
        "    for i in s:\n",
        "      n = i.split(' ')\n",
        "      name = n[0]\n",
        "      boo = n[1]\n",
        "      ans = '$ ' + name + ' = ' + boo\n",
        "      s_lst.append(ans)\n",
        "    return s_lst\n",
        "  else:\n",
        "    return []\n"
      ],
      "metadata": {
        "id": "fY5w3kTaC6fQ"
      },
      "execution_count": 481,
      "outputs": []
    },
    {
      "cell_type": "markdown",
      "source": [
        "## 其他def"
      ],
      "metadata": {
        "id": "SpggRcQ6DGuO"
      }
    },
    {
      "cell_type": "code",
      "source": [
        "def label_creation(label_name):\n",
        "  if label_name != '':\n",
        "    return 'label '+label_name+':'\n",
        "  else:\n",
        "    return ''\n",
        "\n",
        "def set_variables(var_set_command): #变量\n",
        "  if var_set_command != '':\n",
        "    command_list = var_set_command.split(\", \")\n",
        "    ans_lst = []\n",
        "    for var in command_list:\n",
        "      ans = '$ ' + var\n",
        "      ans_lst.append(ans)\n",
        "    # ans_lst.append(\"\\n\")\n",
        "    return ans_lst\n",
        "  else:\n",
        "    return []\n",
        "\n",
        "\n",
        "def jump_label(label_name): # 跳跃分支\n",
        "  if label_name != '':\n",
        "    return 'call ' + label_name\n",
        "\n",
        "\n",
        "## 音乐\n",
        "def music_label(music_name, volume):\n",
        "  if music_name != '':\n",
        "    if music_name != 'STOP':\n",
        "      n1 = 'play music \"' + music_name\n",
        "      n2 = ''\n",
        "      if volume != '':\n",
        "        n2 = '\" volume ' + volume\n",
        "      return n1+n2\n",
        "    else:\n",
        "      return 'stop music fadeout 1.0'\n",
        "  else:\n",
        "    return ''\n",
        "\n",
        "## Audio\n",
        "\n",
        "def audio_label(audio_name):\n",
        "  if audio_name != '':\n",
        "    return 'play sound \"' + audio_name + '\"'\n",
        "  else:\n",
        "    return ''\n",
        "\n",
        "def music_label(music_name, volume):\n",
        "  if music_name != '':\n",
        "    if music_name != 'STOP':\n",
        "      n1 = 'play music \"' + music_name\n",
        "      n2 = ''\n",
        "      if volume != '':\n",
        "        n2 = '\" volume ' + volume\n",
        "      return n1+n2\n",
        "    else:\n",
        "      return 'stop music fadeout 1.0'\n",
        "  else:\n",
        "    return ''\n"
      ],
      "metadata": {
        "id": "nb99XykbbGZK"
      },
      "execution_count": 482,
      "outputs": []
    },
    {
      "cell_type": "markdown",
      "source": [
        "## Variables And Conditions etc"
      ],
      "metadata": {
        "id": "QcMD7QIADnXr"
      }
    },
    {
      "cell_type": "code",
      "source": [
        "def condition_boo (condition_statement):\n",
        "  if condition_statement != '':\n",
        "    if condition_statement == 'in':\n",
        "      return 'in-line'\n",
        "    else:\n",
        "      ans = 'if ' + condition_statement + \":\"\n",
        "      return ans\n",
        "  else:\n",
        "    return ''\n",
        "\n",
        "\n",
        "\n",
        "def talking_dialogue(dialogue_type, character, dialogue, label_name, condition_statement):\n",
        "  d_lst = []\n",
        "  var_code = set_variables(row['Set Variables']) # set variables\n",
        "  if character != '':\n",
        "    character = character + ' '\n",
        "\n",
        "  if dialogue != '':\n",
        "    if dialogue_type == 'Menu':\n",
        "      d_lst.append(\"menu:\")\n",
        "      d_lst.append(\"     \" + character + '\"' + dialogue + '\"')#对话\n",
        "      if len(var_code) >0:\n",
        "        for i in var_code:\n",
        "          d_lst.append(\"     \" + i)\n",
        "\n",
        "  #### 菜单选项\n",
        "    elif dialogue_type == 'Selection':\n",
        "      d_lst.append(\"     \" + character + '\"' + dialogue + '\"' + ':')#对话\n",
        "      if len(var_code) >0: #变量\n",
        "        for i in var_code:\n",
        "          d_lst.append(\"          \" + i)\n",
        "\n",
        "  #### 菜单选项相应对白\n",
        "    elif dialogue_type == 'Inline':\n",
        "\n",
        "      if len(var_code) >0: #变量\n",
        "        for i in var_code:\n",
        "          d_lst.append(\"          \" + i)\n",
        "\n",
        "      d_lst.append(\"          \" + character + '\"' + dialogue + '\"')#对话\n",
        "      if label_name != '': #跳分支\n",
        "        d_lst.append(\"          \" + 'call ' + label_name)\n",
        "\n",
        "  #### 普通对白\n",
        "    else:\n",
        "      condition = condition_boo (condition_statement)\n",
        "      \n",
        "      # 如果没有condition\n",
        "      if condition == '': \n",
        "        if len(var_code) >0:\n",
        "            for i in var_code:\n",
        "              d_lst.append(i)\n",
        "        ans = character + '\"' + dialogue + '\"'#对话\n",
        "        d_lst.append(ans)\n",
        "        if label_name != '': #跳分支\n",
        "          d_lst.append('call ' + label_name)\n",
        "\n",
        "      #condition之下相关语句\n",
        "      elif condition == 'in-line': \n",
        "        if len(var_code) >0:\n",
        "            for i in var_code:\n",
        "              d_lst.append(\"     \" + i)\n",
        "        ans = \"     \" + character + '\"' + dialogue + '\"'#对话\n",
        "        d_lst.append(ans)\n",
        "        if label_name != '': #跳分支\n",
        "          d_lst.append(\"     \" + 'call ' + label_name)\n",
        "\n",
        "\n",
        "      # condition if + 语句\n",
        "      else:\n",
        "          d_lst.append(condition)\n",
        "          print(condition)\n",
        "          if len(var_code) >0:\n",
        "            for i in var_code:\n",
        "              d_lst.append(\"     \" + i)\n",
        "          ans = \"     \" + character + '\"' + dialogue + '\"'#对话\n",
        "          d_lst.append(ans)\n",
        "          if label_name != '': #跳分支\n",
        "            d_lst.append(\"     \" + 'call ' + label_name)\n",
        "        \n",
        "    return d_lst\n",
        "\n",
        "  else:\n",
        "    return []\n"
      ],
      "metadata": {
        "id": "PdpR4pqQDtFI"
      },
      "execution_count": 483,
      "outputs": []
    },
    {
      "cell_type": "markdown",
      "source": [
        "## Run"
      ],
      "metadata": {
        "id": "O-FYGN1lDLKV"
      }
    },
    {
      "cell_type": "code",
      "source": [
        "# 创建单个rpy file\n",
        "\n",
        "f= open(\"test.rpy\",\"w+\")"
      ],
      "metadata": {
        "id": "HbgzM7ZXDJD3"
      },
      "execution_count": 484,
      "outputs": []
    },
    {
      "cell_type": "code",
      "source": [
        "# loop每一行，写code\n",
        "\n",
        "for idx, row in script.iterrows(): # 一行一行\n",
        "\n",
        "  label_code = label_creation(row['Label Name']) # create label\n",
        "  if label_code != '':\n",
        "    f.write(label_code)\n",
        "    f.write(\"\\n\")\n",
        "\n",
        "### 音效等\n",
        "\n",
        "  audio_code = audio_label(row['Sound Effect'])\n",
        "  if audio_code != '':\n",
        "    f.write(\"     \")\n",
        "    f.write(audio_code)\n",
        "    f.write(\"\\n\")\n",
        "\n",
        "  music_code = music_label(row['Music'], row['Volume'])\n",
        "  if music_code != '':\n",
        "    f.write(\"     \")\n",
        "    f.write(music_code)\n",
        "    f.write(\"\\n\")\n",
        "\n",
        "  \n",
        "### 背景\n",
        "  scene_code = scene_settings(row['Scene']) # set scene\n",
        "  if len(scene_code) >0:\n",
        "    for i in scene_code:\n",
        "      f.write(\"     \")\n",
        "      f.write(i)\n",
        "      f.write(\"\\n\")\n",
        "      \n",
        "### 角色sprite\n",
        "  sprite_move_cmd = sprite_position(row['Sprites']) # set sprite position\n",
        "  if len(sprite_move_cmd) > 0:\n",
        "    for i in sprite_move_cmd:\n",
        "      f.write(\"     \")\n",
        "      f.write(i)\n",
        "      f.write(\"\\n\")\n",
        "\n",
        "### CG\n",
        "  CG_code = CG_settings(row['CG'])\n",
        "  if len(CG_code) > 0:\n",
        "    for i in CG_code:\n",
        "      f.write(\"     \")\n",
        "      f.write(i)\n",
        "      f.write(\"\\n\")\n",
        "\n",
        "\n",
        "### 角色表情\n",
        "  exp_cmd = expression_set(row['Expression'])\n",
        "  if len(exp_cmd) > 0:\n",
        "    for i in exp_cmd:\n",
        "      f.write(\"     \")\n",
        "      f.write(i)\n",
        "      f.write(\"\\n\")\n",
        "\n",
        "  face_addon = sprite_face(row['Face Elements'])\n",
        "  if len(face_addon) > 0:\n",
        "    for i in face_addon:\n",
        "      f.write(\"     \")\n",
        "      f.write(i)\n",
        "      f.write(\"\\n\")\n",
        "\n",
        "\n",
        "### 跳跃分支\n",
        "  dialogue = talking_dialogue(row['Dialogue_type'], row['Character'], row['Dialogue'], row['Jump Label'], row['Conditions'])\n",
        "  if len(dialogue) > 0:\n",
        "    for i in dialogue:\n",
        "      f.write(\"     \")\n",
        "      f.write(i)\n",
        "      f.write(\"\\n\")\n",
        "    \n",
        "  f.write(\"\\n\")\n",
        "  \n",
        "  \n",
        "\n",
        "f.close()"
      ],
      "metadata": {
        "colab": {
          "base_uri": "https://localhost:8080/"
        },
        "id": "iATrAxokVgJS",
        "outputId": "6182bbb1-7e9e-47fa-c9af-f3d0f14c9a5d"
      },
      "execution_count": 485,
      "outputs": [
        {
          "output_type": "stream",
          "name": "stdout",
          "text": [
            "if choice == 1:\n",
            "if choice == 2:\n"
          ]
        }
      ]
    },
    {
      "cell_type": "code",
      "source": [
        "#read rpy file\n",
        "f=open(\"test.rpy\", \"r\")\n",
        "if f.mode == 'r':\n",
        "  contents =f.read()\n",
        "\n",
        "contents"
      ],
      "metadata": {
        "colab": {
          "base_uri": "https://localhost:8080/",
          "height": 105
        },
        "id": "PFWtwelSWZ3x",
        "outputId": "8dc31b9c-c60a-42d8-9ead-2cad220440f4"
      },
      "execution_count": 486,
      "outputs": [
        {
          "output_type": "execute_result",
          "data": {
            "text/plain": [
              "'label act1_main1:\\n     $scene_name = \\'rich_mansion_outside\\'\\n     call show_scene_1\\n     show hendrix onlayer inyourface at middle_r\\n     show edmund onlayer inyourface at middle_l\\n     $ hendrix_expressions = \"sad\"\\n     $ hendrix_moving_eyes = True\\n     $ hendrix_ver=\\'hendrix_a\\'\\n     $ edmund_ver=\\'edmund_a\\'\\n     Hendrix \"测试开始了。\"\\n\\n     $ hendrix_moving_eyes = False\\n     Hendrix \"接下来应该播放华尔兹,并且更换背景了。\"\\n\\n     play music \"M&S/test.mp3\" volume 0.1\\n     $s_current = \\'campusUni\\'\\n     call trans_scene_1\\n     \"播放音乐中。\"\\n\\n     Hendrix \"接下来是我的cg！\"\\n\\n     hide hendrix onlayer inyourface at middle_r\\n     hide edmund onlayer inyourface at middle_l\\n     $ cg_name = \"Hendrix/meet\"\\n     call show_CG\\n     \"cg displaying\"\\n\\n     show hendrix onlayer inyourface at middle_r\\n     show edmund onlayer inyourface at middle_l\\n     call hide_CG\\n     call show_scene_1\\n     $ edmund_expressions = \"serious\"\\n     $ edmund_dark = True\\n     Edmund \"为什么只有他有cg！\"\\n\\n     $ hendrix_expressions = \"suspicious\"\\n     Hendrix \"不过，我要消失了。\"\\n\\n     play sound \"M&S/test_sound.ogg\"\\n     stop music fadeout 1.0\\n     hide hendrix onlayer inyourface at middle_r\\n     \"音乐随着一个响声停止了。\"\\n\\n     show edmund onlayer inyourface at middle\\n     $ edmund_dark = False\\n     Edmund \"所以，最后和你在一起的还是我。\"\\n\\n     menu:\\n          \"测试menu\"\\n\\n          \"选择1\":\\n               $ choice=1\\n\\n               Edmund \"选了1\"\\n\\n               \"啦啦啦啦啦\"\\n               call act1_main2\\n\\n          \"选择2\":\\n               $ choice=2\\n\\n               Hendrix \"噜噜噜噜噜\"\\n\\n               \"选了2\"\\n               call act1_main2\\n\\nlabel act1_main2:\\n     \"结束选择\"\\n\\n     if choice == 1:\\n          \"测试if，你的choice选了1！\"\\n\\n          \"选择1之后的相关信息。\"\\n\\n     if choice == 2:\\n          \"测试if，你的choice选了2！\"\\n\\n          \"选择2之后的相关信息。\"\\n\\n     \"测试结束，一切都成功了吗？\"\\n\\n'"
            ],
            "application/vnd.google.colaboratory.intrinsic+json": {
              "type": "string"
            }
          },
          "metadata": {},
          "execution_count": 486
        }
      ]
    },
    {
      "cell_type": "code",
      "source": [
        "# 下载renpy file\n",
        "from google.colab import files\n",
        "files.download(\"test.rpy\") "
      ],
      "metadata": {
        "colab": {
          "base_uri": "https://localhost:8080/",
          "height": 17
        },
        "id": "AeiXf8jhWsq-",
        "outputId": "1baee17b-bdee-4b88-d976-9508eba97de6"
      },
      "execution_count": 487,
      "outputs": [
        {
          "output_type": "display_data",
          "data": {
            "text/plain": [
              "<IPython.core.display.Javascript object>"
            ],
            "application/javascript": [
              "\n",
              "    async function download(id, filename, size) {\n",
              "      if (!google.colab.kernel.accessAllowed) {\n",
              "        return;\n",
              "      }\n",
              "      const div = document.createElement('div');\n",
              "      const label = document.createElement('label');\n",
              "      label.textContent = `Downloading \"${filename}\": `;\n",
              "      div.appendChild(label);\n",
              "      const progress = document.createElement('progress');\n",
              "      progress.max = size;\n",
              "      div.appendChild(progress);\n",
              "      document.body.appendChild(div);\n",
              "\n",
              "      const buffers = [];\n",
              "      let downloaded = 0;\n",
              "\n",
              "      const channel = await google.colab.kernel.comms.open(id);\n",
              "      // Send a message to notify the kernel that we're ready.\n",
              "      channel.send({})\n",
              "\n",
              "      for await (const message of channel.messages) {\n",
              "        // Send a message to notify the kernel that we're ready.\n",
              "        channel.send({})\n",
              "        if (message.buffers) {\n",
              "          for (const buffer of message.buffers) {\n",
              "            buffers.push(buffer);\n",
              "            downloaded += buffer.byteLength;\n",
              "            progress.value = downloaded;\n",
              "          }\n",
              "        }\n",
              "      }\n",
              "      const blob = new Blob(buffers, {type: 'application/binary'});\n",
              "      const a = document.createElement('a');\n",
              "      a.href = window.URL.createObjectURL(blob);\n",
              "      a.download = filename;\n",
              "      div.appendChild(a);\n",
              "      a.click();\n",
              "      div.remove();\n",
              "    }\n",
              "  "
            ]
          },
          "metadata": {}
        },
        {
          "output_type": "display_data",
          "data": {
            "text/plain": [
              "<IPython.core.display.Javascript object>"
            ],
            "application/javascript": [
              "download(\"download_f0dd8288-ff96-4d6c-ba76-8560ec2fc498\", \"test.rpy\", 2047)"
            ]
          },
          "metadata": {}
        }
      ]
    }
  ]
}